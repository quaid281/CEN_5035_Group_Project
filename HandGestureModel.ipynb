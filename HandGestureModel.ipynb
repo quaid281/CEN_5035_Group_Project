{
  "nbformat": 4,
  "nbformat_minor": 0,
  "metadata": {
    "colab": {
      "name": "HandGestureModel.ipynb",
      "provenance": [],
      "collapsed_sections": []
    },
    "kernelspec": {
      "name": "python3",
      "display_name": "Python 3"
    },
    "language_info": {
      "name": "python"
    }
  },
  "cells": [
    {
      "cell_type": "code",
      "metadata": {
        "id": "iac9vTNhKQyd"
      },
      "source": [
        "# importing required libraries\n",
        "import tensorflow as tf \n",
        "from tensorflow.keras.preprocessing.image import ImageDataGenerator\n",
        "from keras.models import Sequential\n",
        "from keras.layers import Conv2D, MaxPooling2D , Dense , Dropout , Flatten\n",
        "import numpy as np \n",
        "from sklearn.model_selection import train_test_split, StratifiedKFold \n",
        "import matplotlib.pyplot as plt \n",
        "import cv2 \n",
        "import pandas as pd "
      ],
      "execution_count": 42,
      "outputs": []
    },
    {
      "cell_type": "code",
      "metadata": {
        "colab": {
          "base_uri": "https://localhost:8080/"
        },
        "id": "w5be2qUDJhVt",
        "outputId": "ef9b85f9-4463-4483-b78c-c12f36b69854"
      },
      "source": [
        "!wget https://www.gti.ssr.upm.es/images/Data/Downloads/HandGestureDatabase/set_2.rar"
      ],
      "execution_count": 20,
      "outputs": [
        {
          "output_type": "stream",
          "name": "stdout",
          "text": [
            "--2021-09-27 02:02:18--  https://www.gti.ssr.upm.es/images/Data/Downloads/HandGestureDatabase/set_2.rar\n",
            "Resolving www.gti.ssr.upm.es (www.gti.ssr.upm.es)... 138.4.32.2\n",
            "Connecting to www.gti.ssr.upm.es (www.gti.ssr.upm.es)|138.4.32.2|:443... connected.\n",
            "HTTP request sent, awaiting response... 200 OK\n",
            "Length: 33102454881 (31G) [application/rar]\n",
            "Saving to: ‘set_2.rar.2’\n",
            "\n",
            "set_2.rar.2           7%[>                   ]   2.44G  8.17MB/s    in 3m 37s  \n",
            "\n",
            "\n",
            "Cannot write to ‘set_2.rar.2’ (Success).\n"
          ]
        }
      ]
    },
    {
      "cell_type": "code",
      "metadata": {
        "colab": {
          "base_uri": "https://localhost:8080/"
        },
        "id": "vALRrja0UIOI",
        "outputId": "d2a258a7-103d-4c28-9f4b-bd32a1fbfb69"
      },
      "source": [
        "!unrar x \"/content/set_2.rar\""
      ],
      "execution_count": 19,
      "outputs": [
        {
          "output_type": "stream",
          "name": "stdout",
          "text": [
            "\n",
            "UNRAR 5.50 freeware      Copyright (c) 1993-2017 Alexander Roshal\n",
            "\n",
            "\n",
            "Extracting from /content/set_2.rar\n",
            "\n",
            "\n",
            "Would you like to replace the existing file set_2/test/subject_1/ground_truth/LabelingSession.mat\n",
            "12100020 bytes, modified on 2014-08-07 13:55\n",
            "with a new one\n",
            "12100020 bytes, modified on 2014-08-07 13:55\n",
            "\n",
            "[Y]es, [N]o, [A]ll, n[E]ver, [R]ename, [Q]uit \n",
            "User break\n",
            "\n",
            "User break\n"
          ]
        }
      ]
    },
    {
      "cell_type": "code",
      "metadata": {
        "id": "fKGlJAzl_Sf2"
      },
      "source": [
        "# defining image folders\n",
        "base_subfolder          =  '/content/set_2/training/'\n",
        "activation_subfolder    =  base_folder + 'g01/subject_1/sequence'\n",
        "cursor_subfolder        =  base_folder + 'g02/subject_1/sequence'\n",
        "left_click_subfolder    =  base_folder + 'g03/subject_1/sequence'\n",
        "right_click_subfolder   =  base_folder + 'g04/subject_1/sequence'\n",
        "deactivation_subfolder  =  base_folder + 'g05/subject_1/sequence'"
      ],
      "execution_count": 39,
      "outputs": []
    },
    {
      "cell_type": "code",
      "metadata": {
        "colab": {
          "base_uri": "https://localhost:8080/"
        },
        "id": "J_pOAwZHFdi0",
        "outputId": "568fc732-9a8f-4e07-a403-7fab3b559f37"
      },
      "source": [
        "from glob import glob \n",
        "\n",
        "# finding filenames in respective subfolders\n",
        "activation_filenames = glob(activation_subfolder + '/*')\n",
        "cursor_filenames = glob(cursor_subfolder + '/*')\n",
        "left_click_filenames = glob(left_click_subfolder + '/*')\n",
        "right_click_filenames = glob(right_click_subfolder + '/*')\n",
        "deactivation_filenames = glob(deactivation_subfolder + '/*')\n",
        "\n",
        "# printing filename info \n",
        "print(\"Total {} images found in {} folder\".format(len(activation), activation_subfolder))\n",
        "print(\"Total {} images found in {} folder\".format(len(cursor), cursor_subfolder))\n",
        "print(\"Total {} images found in {} folder\".format(len(left_click), left_click_subfolder))\n",
        "print(\"Total {} images found in {} folder\".format(len(right_click), right_click_subfolder))\n",
        "print(\"Total {} images found in {} folder\".format(len(deactivation), deactivation_subfolder))"
      ],
      "execution_count": 40,
      "outputs": [
        {
          "output_type": "stream",
          "name": "stdout",
          "text": [
            "Total 38 images found in /content/set_2/training/g01/subject_1/sequence folder\n",
            "Total 38 images found in /content/set_2/training/g02/subject_1/sequence folder\n",
            "Total 38 images found in /content/set_2/training/g03/subject_1/sequence folder\n",
            "Total 38 images found in /content/set_2/training/g04/subject_1/sequence folder\n",
            "Total 38 images found in /content/set_2/training/g05/subject_1/sequence folder\n"
          ]
        }
      ]
    },
    {
      "cell_type": "code",
      "metadata": {
        "colab": {
          "base_uri": "https://localhost:8080/"
        },
        "id": "AmC1zEdvJdf9",
        "outputId": "8d2582e6-ec5b-4c01-e243-07561e5e162f"
      },
      "source": [
        "# creating a dataframe for containing the filepaths (complete absolute filepaths) and corresponding class labels\n",
        "label_names   = ['activation','cursor','left_click','right_click','deactivation']\n",
        "all_filepaths = activation_filenames + cursor_filenames + left_click_filenames + right_click_filenames + deactivation_filenames\n",
        "all_labels    = [label_names[0]]*len(activation_filenames) + [label_names[1]]*len(cursor_filenames) + [label_names[2]]*len(left_click_filenames) + [label_names[3]]*len(right_click_filenames) + [label_names[4]]*len(deactivation_filenames)   \n",
        "df = pd.DataFrame({'filename':all_filepaths, 'class':all_labels})\n",
        "print(df.head())\n",
        "print(df.describe())"
      ],
      "execution_count": 43,
      "outputs": [
        {
          "output_type": "stream",
          "name": "stdout",
          "text": [
            "                                            filename       class\n",
            "0  /content/set_2/training/g01/subject_1/sequence...  activation\n",
            "1  /content/set_2/training/g01/subject_1/sequence...  activation\n",
            "2  /content/set_2/training/g01/subject_1/sequence...  activation\n",
            "3  /content/set_2/training/g01/subject_1/sequence...  activation\n",
            "4  /content/set_2/training/g01/subject_1/sequence...  activation\n",
            "                                                 filename       class\n",
            "count                                                3853        3853\n",
            "unique                                               3853           5\n",
            "top     /content/set_2/training/g02/subject_1/sequence...  left_click\n",
            "freq                                                    1        1041\n"
          ]
        }
      ]
    },
    {
      "cell_type": "code",
      "metadata": {
        "colab": {
          "base_uri": "https://localhost:8080/"
        },
        "id": "zVVYSqGQKqTX",
        "outputId": "2147d4e0-b77e-4562-dbcc-7d17afa1d91b"
      },
      "source": [
        "# performing train, test set splits\n",
        "train_val_df, test_df = train_test_split(df, test_size=0.1, random_state=0, shuffle=True, stratify=df['class'])\n",
        "print(\"Training+Validation set\")\n",
        "print(train_val_df.head())\n",
        "print(train_val_df.describe())\n",
        "print('*'*50)\n",
        "print(\"Testing set\")\n",
        "print(test_df.head())\n",
        "print(test_df.describe())\n",
        "test_df['filename']"
      ],
      "execution_count": 44,
      "outputs": [
        {
          "output_type": "stream",
          "name": "stdout",
          "text": [
            "Training+Validation set\n",
            "                                               filename         class\n",
            "306   /content/set_2/training/g01/subject_1/sequence...    activation\n",
            "441   /content/set_2/training/g01/subject_1/sequence...    activation\n",
            "3757  /content/set_2/training/g05/subject_1/sequence...  deactivation\n",
            "1046  /content/set_2/training/g02/subject_1/sequence...        cursor\n",
            "2497  /content/set_2/training/g04/subject_1/sequence...   right_click\n",
            "                                                 filename       class\n",
            "count                                                3467        3467\n",
            "unique                                               3467           5\n",
            "top     /content/set_2/training/g03/subject_1/sequence...  left_click\n",
            "freq                                                    1         937\n",
            "**************************************************\n",
            "Testing set\n",
            "                                               filename         class\n",
            "147   /content/set_2/training/g01/subject_1/sequence...    activation\n",
            "1260  /content/set_2/training/g03/subject_1/sequence...    left_click\n",
            "2875  /content/set_2/training/g04/subject_1/sequence...   right_click\n",
            "3437  /content/set_2/training/g05/subject_1/sequence...  deactivation\n",
            "291   /content/set_2/training/g01/subject_1/sequence...    activation\n",
            "                                                 filename       class\n",
            "count                                                 386         386\n",
            "unique                                                386           5\n",
            "top     /content/set_2/training/g03/subject_1/sequence...  left_click\n",
            "freq                                                    1         104\n"
          ]
        },
        {
          "output_type": "execute_result",
          "data": {
            "text/plain": [
              "147     /content/set_2/training/g01/subject_1/sequence...\n",
              "1260    /content/set_2/training/g03/subject_1/sequence...\n",
              "2875    /content/set_2/training/g04/subject_1/sequence...\n",
              "3437    /content/set_2/training/g05/subject_1/sequence...\n",
              "291     /content/set_2/training/g01/subject_1/sequence...\n",
              "                              ...                        \n",
              "697     /content/set_2/training/g01/subject_1/sequence...\n",
              "3582    /content/set_2/training/g05/subject_1/sequence...\n",
              "599     /content/set_2/training/g01/subject_1/sequence...\n",
              "1084    /content/set_2/training/g02/subject_1/sequence...\n",
              "2040    /content/set_2/training/g03/subject_1/sequence...\n",
              "Name: filename, Length: 386, dtype: object"
            ]
          },
          "metadata": {},
          "execution_count": 44
        }
      ]
    }
  ]
}